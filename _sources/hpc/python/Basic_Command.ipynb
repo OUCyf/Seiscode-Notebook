{
 "cells": [
  {
   "cell_type": "markdown",
   "id": "84182a09",
   "metadata": {},
   "source": [
    "# Basic Command\n",
    "\n",
    "- Author: *{{Fu}}*\n",
    "- Update: *July 29, 2022*\n",
    "- Reading: *30 min*\n",
    "\n",
    "---\n",
    "\n",
    "\n",
    "File-IO Subprocess Numpy h5py \n",
    "\n",
    "\n",
    "## File IO\n",
    "\n",
    "**read file:**\n",
    "\n",
    "\n",
    "If the `file.txt` is like the following format whose each line has a separate content:\n",
    "\n",
    "```bash\n",
    "UTC190419001218.sgy\n",
    "UTC190419001233.sgy\n",
    "UTC190419001248.sgy\n",
    "UTC190419001303.sgy\n",
    "```\n",
    "\n",
    "Read it into a `list`\n",
    "\n",
    "```python\n",
    "file = \"./file.txt\"\n",
    "with open(file, \"r\") as f:\n",
    "    allfile = []\n",
    "    for readline in f:\n",
    "        onefile = readline.rstrip('\\n')\n",
    "        allfile.append(onefile)\n",
    "```\n",
    "\n",
    "**write file:**\n",
    "\n",
    "```python\n",
    "fout = open(\"input.txt\", 'w') \n",
    "fout.write('# i \\t i+0.5 \\n')\n",
    "for i in range(0,10):\n",
    "  fout.write(str(i)) \n",
    "  fout.write('\\t')\n",
    "  fout.write(str(i+0.5)) \n",
    "  fout.write('\\n')\n",
    "fout.close()\n",
    "```\n",
    "\n",
    "## Numpy\n",
    "\n",
    "```python\n",
    "import numpy as np\n",
    "\n",
    "a = np.ones(10)\n",
    "```\n",
    "\n",
    "\n",
    "## Pathlib\n",
    "\n",
    "```python\n",
    "from pathlib import Path\n",
    "output_path = \"./DAS_DATA\"\n",
    "\n",
    "# check whether exists\n",
    "Path(output_path).is_dir()\n",
    "\n",
    "# make file\n",
    "Path.mkdir(Path(output_path))\n",
    "\n",
    "# absolute path\n",
    "abs_path = Path(output_path).joinpath(url.split('/')[-1]).absolute()\n",
    "\n",
    "# convert to string\n",
    "abs_filename = str(abs_path)\n",
    "```\n",
    "\n",
    "\n",
    "## Subprocess"
   ]
  },
  {
   "cell_type": "code",
   "execution_count": 1,
   "id": "911fcf9e",
   "metadata": {
    "tags": [
     "hide-input",
     "hide-output",
     "output_scroll",
     "remove-stderr",
     "raises-exception"
    ]
   },
   "outputs": [
    {
     "name": "stdout",
     "output_type": "stream",
     "text": [
      "this is some stdddout\n",
      "this is some stdout\n"
     ]
    },
    {
     "name": "stderr",
     "output_type": "stream",
     "text": [
      "this is some stderr\n"
     ]
    },
    {
     "ename": "NameError",
     "evalue": "name 'a' is not defined",
     "output_type": "error",
     "traceback": [
      "\u001b[0;31m---------------------------------------------------------------------------\u001b[0m",
      "\u001b[0;31mNameError\u001b[0m                                 Traceback (most recent call last)",
      "Cell \u001b[0;32mIn[1], line 5\u001b[0m\n\u001b[1;32m      3\u001b[0m \u001b[38;5;28mprint\u001b[39m(\u001b[38;5;124m\"\u001b[39m\u001b[38;5;124mthis is some stdout\u001b[39m\u001b[38;5;124m\"\u001b[39m)\n\u001b[1;32m      4\u001b[0m \u001b[38;5;28mprint\u001b[39m(\u001b[38;5;124m\"\u001b[39m\u001b[38;5;124mthis is some stderr\u001b[39m\u001b[38;5;124m\"\u001b[39m, file\u001b[38;5;241m=\u001b[39msys\u001b[38;5;241m.\u001b[39mstderr)\n\u001b[0;32m----> 5\u001b[0m \u001b[38;5;28mprint\u001b[39m(\u001b[43ma\u001b[49m)\n",
      "\u001b[0;31mNameError\u001b[0m: name 'a' is not defined"
     ]
    }
   ],
   "source": [
    "import sys\n",
    "print(\"this is some stdddout\")\n",
    "print(\"this is some stdout\")\n",
    "print(\"this is some stderr\", file=sys.stderr)\n",
    "print(a)"
   ]
  }
 ],
 "metadata": {
  "jupytext": {
   "text_representation": {
    "extension": ".md",
    "format_name": "myst"
   }
  },
  "kernelspec": {
   "display_name": "Python 3",
   "language": "python",
   "name": "python3"
  },
  "language_info": {
   "codemirror_mode": {
    "name": "ipython",
    "version": 3
   },
   "file_extension": ".py",
   "mimetype": "text/x-python",
   "name": "python",
   "nbconvert_exporter": "python",
   "pygments_lexer": "ipython3",
   "version": "3.9.16"
  },
  "source_map": [
   10,
   94
  ]
 },
 "nbformat": 4,
 "nbformat_minor": 5
}