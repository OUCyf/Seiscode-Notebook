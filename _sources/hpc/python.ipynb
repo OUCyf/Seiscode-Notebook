{
 "cells": [
  {
   "cell_type": "markdown",
   "id": "47064c7b",
   "metadata": {},
   "source": [
    "# Python\n",
    "\n",
    "\n",
    "\n",
    "\n",
    "\n",
    "This section mainly records the parallel computing strategy in python.\n",
    "\n",
    "```{tableofcontents}\n",
    "```"
   ]
  }
 ],
 "metadata": {
  "jupytext": {
   "cell_metadata_filter": "-all",
   "formats": "md:myst",
   "text_representation": {
    "extension": ".md",
    "format_name": "myst"
   }
  },
  "kernelspec": {
   "display_name": "Python 3",
   "language": "python",
   "name": "python3"
  },
  "language_info": {
   "codemirror_mode": {
    "name": "ipython",
    "version": 3
   },
   "file_extension": ".py",
   "mimetype": "text/x-python",
   "name": "python",
   "nbconvert_exporter": "python",
   "pygments_lexer": "ipython3",
   "version": "3.9.16"
  },
  "source_map": [
   12
  ]
 },
 "nbformat": 4,
 "nbformat_minor": 5
}